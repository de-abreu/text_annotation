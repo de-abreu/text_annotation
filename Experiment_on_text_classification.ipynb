{
  "nbformat": 4,
  "nbformat_minor": 0,
  "metadata": {
    "colab": {
      "provenance": [],
      "machine_shape": "hm",
      "gpuType": "T4",
      "authorship_tag": "ABX9TyMvMxHUyazu8ewnKNGWw+gD",
      "include_colab_link": true
    },
    "kernelspec": {
      "name": "python3",
      "display_name": "Python 3"
    },
    "language_info": {
      "name": "python"
    },
    "accelerator": "GPU",
    "widgets": {
      "application/vnd.jupyter.widget-state+json": {
        "bbaf1604b4f14f639c41db8ef6ef2e7b": {
          "model_module": "@jupyter-widgets/controls",
          "model_name": "HBoxModel",
          "model_module_version": "1.5.0",
          "state": {
            "_dom_classes": [],
            "_model_module": "@jupyter-widgets/controls",
            "_model_module_version": "1.5.0",
            "_model_name": "HBoxModel",
            "_view_count": null,
            "_view_module": "@jupyter-widgets/controls",
            "_view_module_version": "1.5.0",
            "_view_name": "HBoxView",
            "box_style": "",
            "children": [
              "IPY_MODEL_6f061e33123246cd9d6a4d01706b67d1",
              "IPY_MODEL_8a67a2278f2942bb860cfccfe58a14f5",
              "IPY_MODEL_4ac5ea09e581486b9ea9b6748009a02e"
            ],
            "layout": "IPY_MODEL_453e7ebf42a84864921fd4dea972c9d8"
          }
        },
        "6f061e33123246cd9d6a4d01706b67d1": {
          "model_module": "@jupyter-widgets/controls",
          "model_name": "HTMLModel",
          "model_module_version": "1.5.0",
          "state": {
            "_dom_classes": [],
            "_model_module": "@jupyter-widgets/controls",
            "_model_module_version": "1.5.0",
            "_model_name": "HTMLModel",
            "_view_count": null,
            "_view_module": "@jupyter-widgets/controls",
            "_view_module_version": "1.5.0",
            "_view_name": "HTMLView",
            "description": "",
            "description_tooltip": null,
            "layout": "IPY_MODEL_82783c766e984c219456a2ad35d44503",
            "placeholder": "​",
            "style": "IPY_MODEL_50321958cb024fefb2615c60b11d8e92",
            "value": "Loading checkpoint shards: 100%"
          }
        },
        "8a67a2278f2942bb860cfccfe58a14f5": {
          "model_module": "@jupyter-widgets/controls",
          "model_name": "FloatProgressModel",
          "model_module_version": "1.5.0",
          "state": {
            "_dom_classes": [],
            "_model_module": "@jupyter-widgets/controls",
            "_model_module_version": "1.5.0",
            "_model_name": "FloatProgressModel",
            "_view_count": null,
            "_view_module": "@jupyter-widgets/controls",
            "_view_module_version": "1.5.0",
            "_view_name": "ProgressView",
            "bar_style": "success",
            "description": "",
            "description_tooltip": null,
            "layout": "IPY_MODEL_2fa4b58058304fb1ae19900c65c26d6e",
            "max": 3,
            "min": 0,
            "orientation": "horizontal",
            "style": "IPY_MODEL_306ff06fc37b413da04f13bf4d618834",
            "value": 3
          }
        },
        "4ac5ea09e581486b9ea9b6748009a02e": {
          "model_module": "@jupyter-widgets/controls",
          "model_name": "HTMLModel",
          "model_module_version": "1.5.0",
          "state": {
            "_dom_classes": [],
            "_model_module": "@jupyter-widgets/controls",
            "_model_module_version": "1.5.0",
            "_model_name": "HTMLModel",
            "_view_count": null,
            "_view_module": "@jupyter-widgets/controls",
            "_view_module_version": "1.5.0",
            "_view_name": "HTMLView",
            "description": "",
            "description_tooltip": null,
            "layout": "IPY_MODEL_e82bcaa1a64b4667912e1525dc51abc2",
            "placeholder": "​",
            "style": "IPY_MODEL_2be55f9c8ef245b9bfc26e560e4dd6b9",
            "value": " 3/3 [00:05&lt;00:00,  1.94s/it]"
          }
        },
        "453e7ebf42a84864921fd4dea972c9d8": {
          "model_module": "@jupyter-widgets/base",
          "model_name": "LayoutModel",
          "model_module_version": "1.2.0",
          "state": {
            "_model_module": "@jupyter-widgets/base",
            "_model_module_version": "1.2.0",
            "_model_name": "LayoutModel",
            "_view_count": null,
            "_view_module": "@jupyter-widgets/base",
            "_view_module_version": "1.2.0",
            "_view_name": "LayoutView",
            "align_content": null,
            "align_items": null,
            "align_self": null,
            "border": null,
            "bottom": null,
            "display": null,
            "flex": null,
            "flex_flow": null,
            "grid_area": null,
            "grid_auto_columns": null,
            "grid_auto_flow": null,
            "grid_auto_rows": null,
            "grid_column": null,
            "grid_gap": null,
            "grid_row": null,
            "grid_template_areas": null,
            "grid_template_columns": null,
            "grid_template_rows": null,
            "height": null,
            "justify_content": null,
            "justify_items": null,
            "left": null,
            "margin": null,
            "max_height": null,
            "max_width": null,
            "min_height": null,
            "min_width": null,
            "object_fit": null,
            "object_position": null,
            "order": null,
            "overflow": null,
            "overflow_x": null,
            "overflow_y": null,
            "padding": null,
            "right": null,
            "top": null,
            "visibility": null,
            "width": null
          }
        },
        "82783c766e984c219456a2ad35d44503": {
          "model_module": "@jupyter-widgets/base",
          "model_name": "LayoutModel",
          "model_module_version": "1.2.0",
          "state": {
            "_model_module": "@jupyter-widgets/base",
            "_model_module_version": "1.2.0",
            "_model_name": "LayoutModel",
            "_view_count": null,
            "_view_module": "@jupyter-widgets/base",
            "_view_module_version": "1.2.0",
            "_view_name": "LayoutView",
            "align_content": null,
            "align_items": null,
            "align_self": null,
            "border": null,
            "bottom": null,
            "display": null,
            "flex": null,
            "flex_flow": null,
            "grid_area": null,
            "grid_auto_columns": null,
            "grid_auto_flow": null,
            "grid_auto_rows": null,
            "grid_column": null,
            "grid_gap": null,
            "grid_row": null,
            "grid_template_areas": null,
            "grid_template_columns": null,
            "grid_template_rows": null,
            "height": null,
            "justify_content": null,
            "justify_items": null,
            "left": null,
            "margin": null,
            "max_height": null,
            "max_width": null,
            "min_height": null,
            "min_width": null,
            "object_fit": null,
            "object_position": null,
            "order": null,
            "overflow": null,
            "overflow_x": null,
            "overflow_y": null,
            "padding": null,
            "right": null,
            "top": null,
            "visibility": null,
            "width": null
          }
        },
        "50321958cb024fefb2615c60b11d8e92": {
          "model_module": "@jupyter-widgets/controls",
          "model_name": "DescriptionStyleModel",
          "model_module_version": "1.5.0",
          "state": {
            "_model_module": "@jupyter-widgets/controls",
            "_model_module_version": "1.5.0",
            "_model_name": "DescriptionStyleModel",
            "_view_count": null,
            "_view_module": "@jupyter-widgets/base",
            "_view_module_version": "1.2.0",
            "_view_name": "StyleView",
            "description_width": ""
          }
        },
        "2fa4b58058304fb1ae19900c65c26d6e": {
          "model_module": "@jupyter-widgets/base",
          "model_name": "LayoutModel",
          "model_module_version": "1.2.0",
          "state": {
            "_model_module": "@jupyter-widgets/base",
            "_model_module_version": "1.2.0",
            "_model_name": "LayoutModel",
            "_view_count": null,
            "_view_module": "@jupyter-widgets/base",
            "_view_module_version": "1.2.0",
            "_view_name": "LayoutView",
            "align_content": null,
            "align_items": null,
            "align_self": null,
            "border": null,
            "bottom": null,
            "display": null,
            "flex": null,
            "flex_flow": null,
            "grid_area": null,
            "grid_auto_columns": null,
            "grid_auto_flow": null,
            "grid_auto_rows": null,
            "grid_column": null,
            "grid_gap": null,
            "grid_row": null,
            "grid_template_areas": null,
            "grid_template_columns": null,
            "grid_template_rows": null,
            "height": null,
            "justify_content": null,
            "justify_items": null,
            "left": null,
            "margin": null,
            "max_height": null,
            "max_width": null,
            "min_height": null,
            "min_width": null,
            "object_fit": null,
            "object_position": null,
            "order": null,
            "overflow": null,
            "overflow_x": null,
            "overflow_y": null,
            "padding": null,
            "right": null,
            "top": null,
            "visibility": null,
            "width": null
          }
        },
        "306ff06fc37b413da04f13bf4d618834": {
          "model_module": "@jupyter-widgets/controls",
          "model_name": "ProgressStyleModel",
          "model_module_version": "1.5.0",
          "state": {
            "_model_module": "@jupyter-widgets/controls",
            "_model_module_version": "1.5.0",
            "_model_name": "ProgressStyleModel",
            "_view_count": null,
            "_view_module": "@jupyter-widgets/base",
            "_view_module_version": "1.2.0",
            "_view_name": "StyleView",
            "bar_color": null,
            "description_width": ""
          }
        },
        "e82bcaa1a64b4667912e1525dc51abc2": {
          "model_module": "@jupyter-widgets/base",
          "model_name": "LayoutModel",
          "model_module_version": "1.2.0",
          "state": {
            "_model_module": "@jupyter-widgets/base",
            "_model_module_version": "1.2.0",
            "_model_name": "LayoutModel",
            "_view_count": null,
            "_view_module": "@jupyter-widgets/base",
            "_view_module_version": "1.2.0",
            "_view_name": "LayoutView",
            "align_content": null,
            "align_items": null,
            "align_self": null,
            "border": null,
            "bottom": null,
            "display": null,
            "flex": null,
            "flex_flow": null,
            "grid_area": null,
            "grid_auto_columns": null,
            "grid_auto_flow": null,
            "grid_auto_rows": null,
            "grid_column": null,
            "grid_gap": null,
            "grid_row": null,
            "grid_template_areas": null,
            "grid_template_columns": null,
            "grid_template_rows": null,
            "height": null,
            "justify_content": null,
            "justify_items": null,
            "left": null,
            "margin": null,
            "max_height": null,
            "max_width": null,
            "min_height": null,
            "min_width": null,
            "object_fit": null,
            "object_position": null,
            "order": null,
            "overflow": null,
            "overflow_x": null,
            "overflow_y": null,
            "padding": null,
            "right": null,
            "top": null,
            "visibility": null,
            "width": null
          }
        },
        "2be55f9c8ef245b9bfc26e560e4dd6b9": {
          "model_module": "@jupyter-widgets/controls",
          "model_name": "DescriptionStyleModel",
          "model_module_version": "1.5.0",
          "state": {
            "_model_module": "@jupyter-widgets/controls",
            "_model_module_version": "1.5.0",
            "_model_name": "DescriptionStyleModel",
            "_view_count": null,
            "_view_module": "@jupyter-widgets/base",
            "_view_module_version": "1.2.0",
            "_view_name": "StyleView",
            "description_width": ""
          }
        }
      }
    }
  },
  "cells": [
    {
      "cell_type": "markdown",
      "metadata": {
        "id": "view-in-github",
        "colab_type": "text"
      },
      "source": [
        "<a href=\"https://colab.research.google.com/github/de-abreu/text_annotation/blob/main/Experiment_on_text_classification.ipynb\" target=\"_parent\"><img src=\"https://colab.research.google.com/assets/colab-badge.svg\" alt=\"Open In Colab\"/></a>"
      ]
    },
    {
      "cell_type": "markdown",
      "source": [
        "# Experiment on text classification\n",
        "\n"
      ],
      "metadata": {
        "id": "lOuECpigOaJ_"
      }
    },
    {
      "cell_type": "markdown",
      "source": [
        "## Purpose\n",
        "\n",
        "To make use of preset prompt designs to augument and, to some extent, automatize every phase of an text annotation pipeline: from its preparation of its data to the analysis of results obtained from it.\n",
        "\n",
        "The process of development is oriented using the TTD (Test Driven Development) methodology."
      ],
      "metadata": {
        "id": "HjXLR1_hc_Oi"
      }
    },
    {
      "cell_type": "markdown",
      "source": [
        "## Installation and instantiation of required packages"
      ],
      "metadata": {
        "id": "ZYwXA6LefHj-"
      }
    },
    {
      "cell_type": "markdown",
      "source": [
        "Install additional libraries, that are not available by default on Google Colab:\n",
        "\n",
        "- **langchain_community:** Allows to take models from Hugging Face and have them be executed locally.\n",
        "\n",
        "- **toml:** Enables the parsing of files or strings written using toml syntax to be parsed into python dictionaries."
      ],
      "metadata": {
        "id": "Z9-Vs_Nqbc0N"
      }
    },
    {
      "cell_type": "code",
      "source": [
        "# Install additional libraries\n",
        "\n",
        "!pip install langchain_community==0.3.21 toml==0.10.2"
      ],
      "metadata": {
        "colab": {
          "base_uri": "https://localhost:8080/"
        },
        "id": "rhR-4e6CMXvJ",
        "outputId": "ab47a136-1fac-4609-9fc3-64adb92e75e0"
      },
      "execution_count": 1,
      "outputs": [
        {
          "output_type": "stream",
          "name": "stdout",
          "text": [
            "Requirement already satisfied: langchain_community==0.3.21 in /usr/local/lib/python3.11/dist-packages (0.3.21)\n",
            "Requirement already satisfied: toml==0.10.2 in /usr/local/lib/python3.11/dist-packages (0.10.2)\n",
            "Requirement already satisfied: langchain-core<1.0.0,>=0.3.51 in /usr/local/lib/python3.11/dist-packages (from langchain_community==0.3.21) (0.3.52)\n",
            "Requirement already satisfied: langchain<1.0.0,>=0.3.23 in /usr/local/lib/python3.11/dist-packages (from langchain_community==0.3.21) (0.3.23)\n",
            "Requirement already satisfied: SQLAlchemy<3,>=1.4 in /usr/local/lib/python3.11/dist-packages (from langchain_community==0.3.21) (2.0.40)\n",
            "Requirement already satisfied: requests<3,>=2 in /usr/local/lib/python3.11/dist-packages (from langchain_community==0.3.21) (2.32.3)\n",
            "Requirement already satisfied: PyYAML>=5.3 in /usr/local/lib/python3.11/dist-packages (from langchain_community==0.3.21) (6.0.2)\n",
            "Requirement already satisfied: aiohttp<4.0.0,>=3.8.3 in /usr/local/lib/python3.11/dist-packages (from langchain_community==0.3.21) (3.11.15)\n",
            "Requirement already satisfied: tenacity!=8.4.0,<10,>=8.1.0 in /usr/local/lib/python3.11/dist-packages (from langchain_community==0.3.21) (9.1.2)\n",
            "Requirement already satisfied: dataclasses-json<0.7,>=0.5.7 in /usr/local/lib/python3.11/dist-packages (from langchain_community==0.3.21) (0.6.7)\n",
            "Requirement already satisfied: pydantic-settings<3.0.0,>=2.4.0 in /usr/local/lib/python3.11/dist-packages (from langchain_community==0.3.21) (2.9.1)\n",
            "Requirement already satisfied: langsmith<0.4,>=0.1.125 in /usr/local/lib/python3.11/dist-packages (from langchain_community==0.3.21) (0.3.31)\n",
            "Requirement already satisfied: httpx-sse<1.0.0,>=0.4.0 in /usr/local/lib/python3.11/dist-packages (from langchain_community==0.3.21) (0.4.0)\n",
            "Requirement already satisfied: numpy<3,>=1.26.2 in /usr/local/lib/python3.11/dist-packages (from langchain_community==0.3.21) (2.0.2)\n",
            "Requirement already satisfied: aiohappyeyeballs>=2.3.0 in /usr/local/lib/python3.11/dist-packages (from aiohttp<4.0.0,>=3.8.3->langchain_community==0.3.21) (2.6.1)\n",
            "Requirement already satisfied: aiosignal>=1.1.2 in /usr/local/lib/python3.11/dist-packages (from aiohttp<4.0.0,>=3.8.3->langchain_community==0.3.21) (1.3.2)\n",
            "Requirement already satisfied: attrs>=17.3.0 in /usr/local/lib/python3.11/dist-packages (from aiohttp<4.0.0,>=3.8.3->langchain_community==0.3.21) (25.3.0)\n",
            "Requirement already satisfied: frozenlist>=1.1.1 in /usr/local/lib/python3.11/dist-packages (from aiohttp<4.0.0,>=3.8.3->langchain_community==0.3.21) (1.5.0)\n",
            "Requirement already satisfied: multidict<7.0,>=4.5 in /usr/local/lib/python3.11/dist-packages (from aiohttp<4.0.0,>=3.8.3->langchain_community==0.3.21) (6.4.3)\n",
            "Requirement already satisfied: propcache>=0.2.0 in /usr/local/lib/python3.11/dist-packages (from aiohttp<4.0.0,>=3.8.3->langchain_community==0.3.21) (0.3.1)\n",
            "Requirement already satisfied: yarl<2.0,>=1.17.0 in /usr/local/lib/python3.11/dist-packages (from aiohttp<4.0.0,>=3.8.3->langchain_community==0.3.21) (1.19.0)\n",
            "Requirement already satisfied: marshmallow<4.0.0,>=3.18.0 in /usr/local/lib/python3.11/dist-packages (from dataclasses-json<0.7,>=0.5.7->langchain_community==0.3.21) (3.26.1)\n",
            "Requirement already satisfied: typing-inspect<1,>=0.4.0 in /usr/local/lib/python3.11/dist-packages (from dataclasses-json<0.7,>=0.5.7->langchain_community==0.3.21) (0.9.0)\n",
            "Requirement already satisfied: langchain-text-splitters<1.0.0,>=0.3.8 in /usr/local/lib/python3.11/dist-packages (from langchain<1.0.0,>=0.3.23->langchain_community==0.3.21) (0.3.8)\n",
            "Requirement already satisfied: pydantic<3.0.0,>=2.7.4 in /usr/local/lib/python3.11/dist-packages (from langchain<1.0.0,>=0.3.23->langchain_community==0.3.21) (2.11.3)\n",
            "Requirement already satisfied: jsonpatch<2.0,>=1.33 in /usr/local/lib/python3.11/dist-packages (from langchain-core<1.0.0,>=0.3.51->langchain_community==0.3.21) (1.33)\n",
            "Requirement already satisfied: packaging<25,>=23.2 in /usr/local/lib/python3.11/dist-packages (from langchain-core<1.0.0,>=0.3.51->langchain_community==0.3.21) (24.2)\n",
            "Requirement already satisfied: typing-extensions>=4.7 in /usr/local/lib/python3.11/dist-packages (from langchain-core<1.0.0,>=0.3.51->langchain_community==0.3.21) (4.13.2)\n",
            "Requirement already satisfied: httpx<1,>=0.23.0 in /usr/local/lib/python3.11/dist-packages (from langsmith<0.4,>=0.1.125->langchain_community==0.3.21) (0.28.1)\n",
            "Requirement already satisfied: orjson<4.0.0,>=3.9.14 in /usr/local/lib/python3.11/dist-packages (from langsmith<0.4,>=0.1.125->langchain_community==0.3.21) (3.10.16)\n",
            "Requirement already satisfied: requests-toolbelt<2.0.0,>=1.0.0 in /usr/local/lib/python3.11/dist-packages (from langsmith<0.4,>=0.1.125->langchain_community==0.3.21) (1.0.0)\n",
            "Requirement already satisfied: zstandard<0.24.0,>=0.23.0 in /usr/local/lib/python3.11/dist-packages (from langsmith<0.4,>=0.1.125->langchain_community==0.3.21) (0.23.0)\n",
            "Requirement already satisfied: python-dotenv>=0.21.0 in /usr/local/lib/python3.11/dist-packages (from pydantic-settings<3.0.0,>=2.4.0->langchain_community==0.3.21) (1.1.0)\n",
            "Requirement already satisfied: typing-inspection>=0.4.0 in /usr/local/lib/python3.11/dist-packages (from pydantic-settings<3.0.0,>=2.4.0->langchain_community==0.3.21) (0.4.0)\n",
            "Requirement already satisfied: charset-normalizer<4,>=2 in /usr/local/lib/python3.11/dist-packages (from requests<3,>=2->langchain_community==0.3.21) (3.4.1)\n",
            "Requirement already satisfied: idna<4,>=2.5 in /usr/local/lib/python3.11/dist-packages (from requests<3,>=2->langchain_community==0.3.21) (3.10)\n",
            "Requirement already satisfied: urllib3<3,>=1.21.1 in /usr/local/lib/python3.11/dist-packages (from requests<3,>=2->langchain_community==0.3.21) (2.3.0)\n",
            "Requirement already satisfied: certifi>=2017.4.17 in /usr/local/lib/python3.11/dist-packages (from requests<3,>=2->langchain_community==0.3.21) (2025.1.31)\n",
            "Requirement already satisfied: greenlet>=1 in /usr/local/lib/python3.11/dist-packages (from SQLAlchemy<3,>=1.4->langchain_community==0.3.21) (3.2.0)\n",
            "Requirement already satisfied: anyio in /usr/local/lib/python3.11/dist-packages (from httpx<1,>=0.23.0->langsmith<0.4,>=0.1.125->langchain_community==0.3.21) (4.9.0)\n",
            "Requirement already satisfied: httpcore==1.* in /usr/local/lib/python3.11/dist-packages (from httpx<1,>=0.23.0->langsmith<0.4,>=0.1.125->langchain_community==0.3.21) (1.0.8)\n",
            "Requirement already satisfied: h11<0.15,>=0.13 in /usr/local/lib/python3.11/dist-packages (from httpcore==1.*->httpx<1,>=0.23.0->langsmith<0.4,>=0.1.125->langchain_community==0.3.21) (0.14.0)\n",
            "Requirement already satisfied: jsonpointer>=1.9 in /usr/local/lib/python3.11/dist-packages (from jsonpatch<2.0,>=1.33->langchain-core<1.0.0,>=0.3.51->langchain_community==0.3.21) (3.0.0)\n",
            "Requirement already satisfied: annotated-types>=0.6.0 in /usr/local/lib/python3.11/dist-packages (from pydantic<3.0.0,>=2.7.4->langchain<1.0.0,>=0.3.23->langchain_community==0.3.21) (0.7.0)\n",
            "Requirement already satisfied: pydantic-core==2.33.1 in /usr/local/lib/python3.11/dist-packages (from pydantic<3.0.0,>=2.7.4->langchain<1.0.0,>=0.3.23->langchain_community==0.3.21) (2.33.1)\n",
            "Requirement already satisfied: mypy-extensions>=0.3.0 in /usr/local/lib/python3.11/dist-packages (from typing-inspect<1,>=0.4.0->dataclasses-json<0.7,>=0.5.7->langchain_community==0.3.21) (1.0.0)\n",
            "Requirement already satisfied: sniffio>=1.1 in /usr/local/lib/python3.11/dist-packages (from anyio->httpx<1,>=0.23.0->langsmith<0.4,>=0.1.125->langchain_community==0.3.21) (1.3.1)\n"
          ]
        }
      ]
    },
    {
      "cell_type": "markdown",
      "source": [
        "Loading of required libraries"
      ],
      "metadata": {
        "id": "tR5PYXCxUGHk"
      }
    },
    {
      "cell_type": "code",
      "source": [
        "from google.colab import userdata\n",
        "from huggingface_hub import login\n",
        "from langchain.llms import HuggingFacePipeline\n",
        "from sklearn.metrics import confusion_matrix\n",
        "from sklearn.model_selection import StratifiedKFold\n",
        "from transformers import pipeline\n",
        "from transformers.models.auto.modeling_auto import AutoModelForCausalLM\n",
        "from transformers.models.auto.tokenization_auto import AutoTokenizer\n",
        "import accelerate\n",
        "import gc\n",
        "import matplotlib.pyplot as plt\n",
        "import pandas as pd\n",
        "import re\n",
        "import seaborn as sns\n",
        "import tomllib\n",
        "import torch"
      ],
      "metadata": {
        "id": "CmP1jyrpT_Ow"
      },
      "execution_count": 2,
      "outputs": []
    },
    {
      "cell_type": "markdown",
      "source": [
        "## Accessing Hugging Face and loading dataset to be evaluated"
      ],
      "metadata": {
        "id": "1F6c8QkYgn3r"
      }
    },
    {
      "cell_type": "code",
      "source": [
        "login(token=userdata.get('HF_TOKEN'))\n",
        "try:\n",
        "  df = pd.read_csv('train_split1.csv')\n",
        "  print(df.head(10))\n",
        "except FileNotFoundError:\n",
        "  print(\"Error: 'train_split1.csv' not found in the current directory.\")\n",
        "  exit()"
      ],
      "metadata": {
        "colab": {
          "base_uri": "https://localhost:8080/"
        },
        "id": "_E9SzPC0b3zj",
        "outputId": "68263626-03fb-4cca-98ed-b6085b8db639"
      },
      "execution_count": 3,
      "outputs": [
        {
          "output_type": "stream",
          "name": "stdout",
          "text": [
            "                                                text           label\n",
            "0  #USER# #USER# Because…..\\n\\nAs with everything...          Desire\n",
            "1  #USER# #USER# #USER# #USER# #USER# The world i...          Desire\n",
            "2  Manna to commence US last-mile drone delivery ...          Desire\n",
            "3  Sen. Blackburn sounds like someone who is hopi...        Not-Hope\n",
            "4  #USER# Me a bear casually hoping I bump into y...          Desire\n",
            "5  that kind of torture is obscene and those invo...          Belief\n",
            "6  #USER# #USER# Unless I’m missing something obv...        Not-Hope\n",
            "7  what it lacks for me is n t available on one p...        Not-Hope\n",
            "8  Chan... \\nWhat I RLLY admire from him and aspi...          Desire\n",
            "9  #USER# I wish Cali had more of those. Get them...  Counterfactual\n"
          ]
        }
      ]
    },
    {
      "cell_type": "markdown",
      "source": [
        "## Evaluating dataset for missing values and label distribution"
      ],
      "metadata": {
        "id": "Cra9-EZBhnFT"
      }
    },
    {
      "cell_type": "code",
      "execution_count": 4,
      "metadata": {
        "colab": {
          "base_uri": "https://localhost:8080/",
          "height": 850
        },
        "id": "Kw5wCmnl3BCo",
        "outputId": "dda32666-3b76-4f11-d78f-3992a89fbef6"
      },
      "outputs": [
        {
          "output_type": "stream",
          "name": "stdout",
          "text": [
            "Label Counts:\n",
            "label\n",
            "Not-Hope          1599\n",
            "Desire            1149\n",
            "Belief             801\n",
            "Counterfactual     167\n",
            "Name: count, dtype: int64\n",
            "\n",
            "Missing Values:\n",
            "text     0\n",
            "label    0\n",
            "dtype: int64\n",
            "\n",
            "\n"
          ]
        },
        {
          "output_type": "display_data",
          "data": {
            "text/plain": [
              "<Figure size 1000x600 with 1 Axes>"
            ],
            "image/png": "[encoded data removed]"
          },
          "metadata": {}
        }
      ],
      "source": [
        "if 'label' not in df.columns:\n",
        "    print(\"Error: 'label' column not found in the CSV file.\")\n",
        "    exit()\n",
        "\n",
        "# Count the occurrence of each label\n",
        "label_counts = df['label'].value_counts()\n",
        "missing_values = df.isnull().sum()\n",
        "\n",
        "print(\"Label Counts:\")\n",
        "print(label_counts)\n",
        "print(\"\\nMissing Values:\")\n",
        "print(missing_values)\n",
        "print(\"\\n\")\n",
        "\n",
        "# Create the bar plot\n",
        "plt.figure(figsize=(10, 6))\n",
        "sns.barplot(x=label_counts.index, y=label_counts.values)\n",
        "\n",
        "# Annotate each bar with its count\n",
        "for i, count in enumerate(label_counts.values):\n",
        "    plt.text(i, count + 3, str(count), ha='center', va='bottom')  # Adjust the '+3' for better visibility\n",
        "\n",
        "plt.xlabel('Label')\n",
        "plt.ylabel('Count')\n",
        "plt.title('Distribution of Labels')\n",
        "plt.xticks(rotation=45, ha='right')  # Rotate x-axis labels for better readability\n",
        "plt.tight_layout()\n",
        "plt.show()"
      ]
    },
    {
      "cell_type": "markdown",
      "source": [
        "Here we verify that there are no missing values, but there *is* a very unequal distribution of labels. This suggests the need for data stratification if subsets of the dataset are to be used, as required when spliting data into training, validation and testing sets.\n",
        "\n",
        "This should be done in later stages of development, after a valid application of the model has been confirmed without any data stratification being present."
      ],
      "metadata": {
        "id": "UVrG6g8rhuoL"
      }
    },
    {
      "cell_type": "markdown",
      "source": [
        "## Load LLM and set method to parse responses given in toml format."
      ],
      "metadata": {
        "id": "EvfdtN9okl6W"
      }
    },
    {
      "cell_type": "code",
      "source": [
        "model_id = \"mistralai/Mistral-7B-v0.3\"\n",
        "tokenizer = AutoTokenizer.from_pretrained(model_id, use_fast=True)\n",
        "\n",
        "model = AutoModelForCausalLM.from_pretrained(\n",
        "    model_id,\n",
        "    torch_dtype=torch.float16,\n",
        "    trust_remote_code=True,\n",
        ")\n",
        "\n",
        "# Omit warnings about missing padding tokens\n",
        "tokenizer.pad_token = tokenizer.eos_token\n",
        "model.config.pad_token_id = tokenizer.eos_token_id\n",
        "\n",
        "generator = pipeline(\n",
        "    \"text-generation\",\n",
        "    model = model,\n",
        "    tokenizer = tokenizer,\n",
        "    num_return_sequences = 1,\n",
        "    max_new_tokens = 2048,\n",
        "    do_sample=True,\n",
        "    temperature = 0.001,\n",
        "    top_p = 0.95,\n",
        "    repetition_penalty = 1.1,\n",
        "    device=0 if torch.cuda.is_available() else -1\n",
        ")\n",
        "\n",
        "llm = HuggingFacePipeline(pipeline=generator)"
      ],
      "metadata": {
        "colab": {
          "base_uri": "https://localhost:8080/",
          "height": 121,
          "referenced_widgets": [
            "bbaf1604b4f14f639c41db8ef6ef2e7b",
            "6f061e33123246cd9d6a4d01706b67d1",
            "8a67a2278f2942bb860cfccfe58a14f5",
            "4ac5ea09e581486b9ea9b6748009a02e",
            "453e7ebf42a84864921fd4dea972c9d8",
            "82783c766e984c219456a2ad35d44503",
            "50321958cb024fefb2615c60b11d8e92",
            "2fa4b58058304fb1ae19900c65c26d6e",
            "306ff06fc37b413da04f13bf4d618834",
            "e82bcaa1a64b4667912e1525dc51abc2",
            "2be55f9c8ef245b9bfc26e560e4dd6b9"
          ]
        },
        "id": "iIiHAV0YEcjh",
        "outputId": "c41c585c-f6cc-4455-ebdd-48c17a157c1a"
      },
      "execution_count": 5,
      "outputs": [
        {
          "output_type": "display_data",
          "data": {
            "text/plain": [
              "Loading checkpoint shards:   0%|          | 0/3 [00:00<?, ?it/s]"
            ],
            "application/vnd.jupyter.widget-view+json": {
              "version_major": 2,
              "version_minor": 0,
              "model_id": "bbaf1604b4f14f639c41db8ef6ef2e7b"
            }
          },
          "metadata": {}
        },
        {
          "output_type": "stream",
          "name": "stderr",
          "text": [
            "Device set to use cuda:0\n",
            "<ipython-input-5-4873c033d525>:27: LangChainDeprecationWarning: The class `HuggingFacePipeline` was deprecated in LangChain 0.0.37 and will be removed in 1.0. An updated version of the class exists in the :class:`~langchain-huggingface package and should be used instead. To use it run `pip install -U :class:`~langchain-huggingface` and import as `from :class:`~langchain_huggingface import HuggingFacePipeline``.\n",
            "  llm = HuggingFacePipeline(pipeline=generator)\n"
          ]
        }
      ]
    },
    {
      "cell_type": "code",
      "source": [
        "def parse_toml(text: str) -> dict[str, str] | None:\n",
        "    \"\"\"\n",
        "    Extract a ```toml … ``` code block from `text` and parses it.\n",
        "    Returns:\n",
        "        dict with the parsed TOML if successful,\n",
        "        None if extraction or parsing fails.\n",
        "    \"\"\"\n",
        "    # 1) Remove anything up to and including “Answer:”\n",
        "    body = re.sub(r'(?s)^.*?Answer:\\s*', '', text)\n",
        "\n",
        "    # 2) Grab the first TOML code block\n",
        "    matches = re.findall(r'(?<=```toml\\n)[^`]*?(?=\\n```)', body)\n",
        "    if not matches:                         # no TOML code block\n",
        "        return None\n",
        "\n",
        "    toml_snippet = matches[0].strip()\n",
        "\n",
        "    # 3) Attempt to decode the TOML\n",
        "    try:\n",
        "        return tomllib.loads(toml_snippet)\n",
        "    except tomllib.TOMLDecodeError:         # malformed TOML\n",
        "        return None\n",
        "    except Exception:                       # any other unforeseen error\n",
        "        return None"
      ],
      "metadata": {
        "id": "m24cISaaPdLx"
      },
      "execution_count": 7,
      "outputs": []
    },
    {
      "cell_type": "markdown",
      "source": [
        "## Initial prompt, generation of labels and examples\n",
        "\n",
        "Here the LLM is tasked with generating labels and examples for text annotation, when given a set of criteria. A relationship of equivalence with labels assigned by human annotators is also set."
      ],
      "metadata": {
        "id": "fMZv5x18k3tp"
      }
    },
    {
      "cell_type": "code",
      "source": [
        "# Define the LLM prompt format\n",
        "prompt = \"\"\"\n",
        "In the context of text annotation, devise a label to denote a text that fits following description: \"{text}\"\n",
        "\n",
        "The label should be a single word, not contained in the following list: \"{prev}\"\n",
        "\n",
        "Provide your response in the following toml format:\n",
        "\n",
        "```toml\n",
        "label = \"<suggested label>\"\n",
        "description = \"<explanation of the suggested label>\"\n",
        "example = \"<example of text that fits the label description>\"\n",
        "```\n",
        "Answer:\n",
        "\"\"\""
      ],
      "metadata": {
        "id": "qhrTfZ_lGjNR"
      },
      "execution_count": 6,
      "outputs": []
    },
    {
      "cell_type": "code",
      "source": [
        "def get_label(text: str, labels: list[str]) -> dict[str,str]:\n",
        "  result = llm.invoke(prompt.format(text = text, prev = \", \".join(labels)))\n",
        "  return parse_toml(result)\n",
        "\n",
        "labels : dict[str, dict] = {}\n",
        "\n",
        "for name, description in zip(\n",
        "    [\"Belief\", \"Counterfactual\", \"Desire\"],\n",
        "    [\n",
        "        \"expressions in the future/present tense indicating a belief or prediction about what will happen, or how things should be. Often includes anticipations, worldviews, deontic, and epistemic expressions\",\n",
        "        \"expressions in the past tense indicating a wish, hope, belief, sorrow for a different outcome or reality.\",\n",
        "        \"expressions in the future/present tense indicating a wish, desire, or intention to do something next. Often includes plans or commands (imperatives).\"\n",
        "    ]\n",
        "  ):\n",
        "  labels[name] = get_label(description, [labels[x][\"label\"] for x in labels])\n",
        "labels['Not-Hope'] = {'label': 'Other', 'description': 'Does not match any of the previous criteria.'}\n",
        "print(labels)"
      ],
      "metadata": {
        "colab": {
          "base_uri": "https://localhost:8080/"
        },
        "id": "FhuAXQQdLmdn",
        "outputId": "3d1a9395-9c3e-4bd0-aa5d-d9fb04e2cf89"
      },
      "execution_count": 8,
      "outputs": [
        {
          "output_type": "stream",
          "name": "stdout",
          "text": [
            "{'Belief': {'label': 'prediction', 'description': 'expressions in the future/present tense indicating a belief or prediction about what will happen, or how things should be. Often includes anticipations, worldviews, deontic, and epistemic expressions', 'example': \"I think it'll rain tomorrow.\"}, 'Counterfactual': {'label': 'wish', 'description': 'expressions in the past tense indicating a wish, hope, belief, sorrow for a different outcome or reality', 'example': 'I wish I had known you better.'}, 'Desire': {'label': 'intent', 'description': 'expressions in the future/present tense indicating a wish, desire, or intention to do something next. Often includes plans or commands (imperatives).', 'example': \"I'm going to go to the store.\"}, 'Not-Hope': {'label': 'Other', 'description': 'Does not match any of the previous criteria.'}}\n"
          ]
        }
      ]
    },
    {
      "cell_type": "markdown",
      "source": [
        "## Application of labels to unseen data\n",
        "\n",
        "This part could have some optimization to address the following warning: \"You seem to be using the pipelines sequentially on GPU. In order to maximize efficiency please use a dataset\""
      ],
      "metadata": {
        "id": "atwYtd9olhBx"
      }
    },
    {
      "cell_type": "code",
      "source": [
        "labels_string = \"\"\n",
        "for _, label_data in labels.items():\n",
        "    labels_string += f\"\"\"\n",
        "label = {label_data[\"label\"]}\n",
        "description = {label_data[\"description\"]}\n",
        "{\"example = \" + label_data[\"example\"] if \"example\" in label_data else \"\"}\n",
        "\"\"\"\n",
        "\n",
        "prompt = f\"\"\"\n",
        "As an text annotator, your task is to assign one of the following labels:\n",
        "{labels_string}\n",
        "\"\"\" + \"\"\"\n",
        "To the following text: \"{text}\"\n",
        "\n",
        "Provide your answer in the following toml format:\n",
        "\n",
        "```toml\n",
        "assigned_label = \"<assigned label>\"\n",
        "```\n",
        "Answer:\n",
        "\"\"\""
      ],
      "metadata": {
        "id": "0YLaU2HqG7TR"
      },
      "execution_count": 9,
      "outputs": []
    },
    {
      "cell_type": "code",
      "source": [
        "ai_to_human_label_map = {v['label']: k for k, v in labels.items()}\n",
        "results = []\n",
        "\n",
        "for index, row in df.iterrows():\n",
        "  response = llm.invoke(prompt.format(text = row['text']))\n",
        "  result = parse_toml(response)\n",
        "  if result is None:\n",
        "    print(f\"Error parsing response for index {index}: {response}\")\n",
        "    continue\n",
        "  result['assigned_label'] = ai_to_human_label_map.get(result['assigned_label'], 'Not-Hope')\n",
        "  result['expected_label'] = row['label']\n",
        "  results.append(result)\n",
        "\n",
        "results_df = pd.DataFrame(results)"
      ],
      "metadata": {
        "id": "FKuTWTGgY42X",
        "colab": {
          "base_uri": "https://localhost:8080/"
        },
        "outputId": "ada950a8-93b9-41b3-982f-f46cb4064686"
      },
      "execution_count": 10,
      "outputs": [
        {
          "output_type": "stream",
          "name": "stderr",
          "text": [
            "You seem to be using the pipelines sequentially on GPU. In order to maximize efficiency please use a dataset\n"
          ]
        }
      ]
    },
    {
      "cell_type": "markdown",
      "source": [
        "## Results and analysis for first iteration"
      ],
      "metadata": {
        "id": "9iCJY0xdmjIR"
      }
    },
    {
      "cell_type": "code",
      "source": [
        "conf_mat = confusion_matrix(results_df['expected_label'], results_df['assigned_label'])\n",
        "plt.figure(figsize=(8, 6))\n",
        "sns.heatmap(conf_mat, annot=True, fmt='d', cmap='Blues',\n",
        "            xticklabels=labels.keys(),\n",
        "            yticklabels=labels.keys())\n",
        "plt.xlabel('Assigned Label')\n",
        "plt.ylabel('Expected Label')\n",
        "plt.title('Confusion Matrix: Human vs. AI Labels')\n",
        "plt.show()\n",
        "print(f\"Length of original dataframe: {len(df)}\")\n",
        "print(f\"Length of results dataframe: {len(results_df)}\")"
      ],
      "metadata": {
        "colab": {
          "base_uri": "https://localhost:8080/",
          "height": 599
        },
        "id": "JBd3F7TMT0_I",
        "outputId": "1564bf9b-7bcc-4284-8622-cbe2ed1fbbe0"
      },
      "execution_count": 11,
      "outputs": [
        {
          "output_type": "display_data",
          "data": {
            "text/plain": [
              "<Figure size 800x600 with 2 Axes>"
            ],
            "image/png": "[encoded data removed]"
          },
          "metadata": {}
        },
        {
          "output_type": "stream",
          "name": "stdout",
          "text": [
            "Length of orriginal dataframe: 3716\n",
            "Length of results dataframe: 3716\n"
          ]
        }
      ]
    },
    {
      "cell_type": "markdown",
      "source": [
        "We have good newls and bad news:\n",
        "\n",
        "- Good news:\n",
        "  - Data formatted in toml syntax has been parsed flawlessly, with no loss of data values.\n",
        "\n",
        "- Bad news:\n",
        "  - Results are quite a lot off mark, making further iterations to generate more few-shot examples and tweaking label descriptions needed."
      ],
      "metadata": {
        "id": "RhLAxgHKmwxj"
      }
    }
  ]
}